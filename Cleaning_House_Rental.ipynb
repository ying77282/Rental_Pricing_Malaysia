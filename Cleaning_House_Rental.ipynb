{
 "cells": [
  {
   "cell_type": "code",
   "execution_count": 1,
   "id": "93ca9153-3a2b-4e39-874a-03386e30d169",
   "metadata": {},
   "outputs": [],
   "source": [
    "import pandas as pd\n",
    "import os\n",
    "\n",
    "username = os.path.expanduser('~')"
   ]
  },
  {
   "cell_type": "code",
   "execution_count": 30,
   "id": "65178b70-ecc4-4f2d-b720-1a02bac42bc9",
   "metadata": {
    "scrolled": true
   },
   "outputs": [],
   "source": [
    "data=pd.read_csv(fr\"{username}\\Downloads\\mudah-apartment-kl-selangor.csv\\mudah-apartment-kl-selangor.csv\")\n"
   ]
  },
  {
   "cell_type": "code",
   "execution_count": 5,
   "id": "97483c14-7030-4ad2-a5c4-36782fa1cb82",
   "metadata": {},
   "outputs": [
    {
     "name": "stdout",
     "output_type": "stream",
     "text": [
      "<class 'pandas.core.frame.DataFrame'>\n",
      "RangeIndex: 19991 entries, 0 to 19990\n",
      "Data columns (total 14 columns):\n",
      " #   Column                 Non-Null Count  Dtype  \n",
      "---  ------                 --------------  -----  \n",
      " 0   ads_id                 19991 non-null  int64  \n",
      " 1   prop_name              19043 non-null  object \n",
      " 2   completion_year        10806 non-null  float64\n",
      " 3   monthly_rent           19989 non-null  object \n",
      " 4   location               19991 non-null  object \n",
      " 5   property_type          19991 non-null  object \n",
      " 6   rooms                  19985 non-null  object \n",
      " 7   parking                14289 non-null  float64\n",
      " 8   bathroom               19985 non-null  float64\n",
      " 9   size                   19991 non-null  object \n",
      " 10  furnished              19986 non-null  object \n",
      " 11  facilities             17782 non-null  object \n",
      " 12  additional_facilities  14043 non-null  object \n",
      " 13  region                 19991 non-null  object \n",
      "dtypes: float64(3), int64(1), object(10)\n",
      "memory usage: 2.1+ MB\n"
     ]
    }
   ],
   "source": [
    "data.info()"
   ]
  },
  {
   "cell_type": "code",
   "execution_count": 8,
   "id": "2270f4cd-f1ff-4fb3-b7a7-33947e783dd3",
   "metadata": {},
   "outputs": [
    {
     "data": {
      "text/plain": [
       "Index(['ads_id', 'prop_name', 'completion_year', 'monthly_rent', 'location',\n",
       "       'property_type', 'rooms', 'parking', 'bathroom', 'size', 'furnished',\n",
       "       'facilities', 'additional_facilities', 'region'],\n",
       "      dtype='object')"
      ]
     },
     "execution_count": 8,
     "metadata": {},
     "output_type": "execute_result"
    }
   ],
   "source": [
    " data.columns "
   ]
  },
  {
   "cell_type": "code",
   "execution_count": 9,
   "id": "3437461a-2d1b-4197-9d4f-bb59a437a11b",
   "metadata": {},
   "outputs": [
    {
     "data": {
      "text/plain": [
       "array(['The Hipster @ Taman Desa', 'Segar Courts',\n",
       "       'Pangsapuri Teratak Muhibbah 2', ...,\n",
       "       'Pangsapuri Desa Mas Taman Desa Mas Bandar Country Homes',\n",
       "       'Pangsapuri Meru Ehsan', 'Residensi Lili'], dtype=object)"
      ]
     },
     "execution_count": 9,
     "metadata": {},
     "output_type": "execute_result"
    }
   ],
   "source": [
    "data['prop_name'].unique()"
   ]
  },
  {
   "cell_type": "code",
   "execution_count": 13,
   "id": "90cc1237-3d53-43f9-a214-6759a4ad4859",
   "metadata": {},
   "outputs": [
    {
     "data": {
      "text/plain": [
       "2826"
      ]
     },
     "execution_count": 13,
     "metadata": {},
     "output_type": "execute_result"
    }
   ],
   "source": [
    "data['prop_name'].nunique()\n"
   ]
  },
  {
   "cell_type": "code",
   "execution_count": 14,
   "id": "b920db72-5c99-49c1-940e-4a54fdf02ec9",
   "metadata": {},
   "outputs": [
    {
     "data": {
      "text/plain": [
       "array(['Kuala Lumpur', 'Selangor'], dtype=object)"
      ]
     },
     "execution_count": 14,
     "metadata": {},
     "output_type": "execute_result"
    }
   ],
   "source": [
    "data['region'].unique()"
   ]
  },
  {
   "cell_type": "code",
   "execution_count": 17,
   "id": "807c9413-1362-4239-92c1-6f33ac0959d7",
   "metadata": {},
   "outputs": [
    {
     "data": {
      "text/plain": [
       "array(['Fully Furnished', 'Partially Furnished', 'Not Furnished', nan],\n",
       "      dtype=object)"
      ]
     },
     "execution_count": 17,
     "metadata": {},
     "output_type": "execute_result"
    }
   ],
   "source": [
    "data['furnished'].unique()"
   ]
  },
  {
   "cell_type": "code",
   "execution_count": 21,
   "id": "77310727-8413-4971-8dc4-763ba5d58060",
   "metadata": {},
   "outputs": [
    {
     "name": "stdout",
     "output_type": "stream",
     "text": [
      "<class 'pandas.core.frame.DataFrame'>\n",
      "Int64Index: 19989 entries, 0 to 19990\n",
      "Data columns (total 14 columns):\n",
      " #   Column                 Non-Null Count  Dtype  \n",
      "---  ------                 --------------  -----  \n",
      " 0   ads_id                 19989 non-null  int64  \n",
      " 1   prop_name              19042 non-null  object \n",
      " 2   completion_year        10806 non-null  float64\n",
      " 3   monthly_rent           19989 non-null  object \n",
      " 4   location               19989 non-null  object \n",
      " 5   property_type          19989 non-null  object \n",
      " 6   rooms                  19983 non-null  object \n",
      " 7   parking                14288 non-null  float64\n",
      " 8   bathroom               19983 non-null  float64\n",
      " 9   size                   19989 non-null  object \n",
      " 10  furnished              19986 non-null  object \n",
      " 11  facilities             17780 non-null  object \n",
      " 12  additional_facilities  14043 non-null  object \n",
      " 13  region                 19989 non-null  object \n",
      "dtypes: float64(3), int64(1), object(10)\n",
      "memory usage: 2.3+ MB\n"
     ]
    }
   ],
   "source": [
    "data = data.dropna(subset=['monthly_rent'])\n",
    "data.info()\n",
    "\n",
    "\n"
   ]
  },
  {
   "cell_type": "code",
   "execution_count": 26,
   "id": "a7a58feb-3153-43d7-982a-efc536e32c46",
   "metadata": {},
   "outputs": [
    {
     "name": "stdout",
     "output_type": "stream",
     "text": [
      "<class 'pandas.core.frame.DataFrame'>\n",
      "Int64Index: 19983 entries, 0 to 19990\n",
      "Data columns (total 14 columns):\n",
      " #   Column                 Non-Null Count  Dtype  \n",
      "---  ------                 --------------  -----  \n",
      " 0   ads_id                 19983 non-null  int64  \n",
      " 1   prop_name              19042 non-null  object \n",
      " 2   completion_year        10806 non-null  float64\n",
      " 3   monthly_rent           19983 non-null  object \n",
      " 4   location               19983 non-null  object \n",
      " 5   property_type          19983 non-null  object \n",
      " 6   rooms                  19983 non-null  object \n",
      " 7   parking                14286 non-null  float64\n",
      " 8   bathroom               19983 non-null  float64\n",
      " 9   size                   19983 non-null  object \n",
      " 10  furnished              19983 non-null  object \n",
      " 11  facilities             17777 non-null  object \n",
      " 12  additional_facilities  14039 non-null  object \n",
      " 13  region                 19983 non-null  object \n",
      "dtypes: float64(3), int64(1), object(10)\n",
      "memory usage: 2.3+ MB\n"
     ]
    }
   ],
   "source": [
    "\n",
    "\n",
    "# Find rows where 'bathroom' or 'rooms' is null\n",
    "null_data = data[data[['bathroom', 'rooms']].isna().any(axis=1)]\n",
    "\n",
    "\n",
    "# Drop rows where 'bathroom' or 'rooms' is null\n",
    "data = data.dropna(subset=['bathroom', 'rooms'])\n",
    "\n",
    "data.info()"
   ]
  },
  {
   "cell_type": "code",
   "execution_count": 29,
   "id": "65ac5b51-8836-4203-8d7e-fc9862953435",
   "metadata": {},
   "outputs": [
    {
     "name": "stdout",
     "output_type": "stream",
     "text": [
      "<class 'pandas.core.frame.DataFrame'>\n",
      "Int64Index: 19983 entries, 0 to 19990\n",
      "Data columns (total 9 columns):\n",
      " #   Column         Non-Null Count  Dtype  \n",
      "---  ------         --------------  -----  \n",
      " 0   ads_id         19983 non-null  int64  \n",
      " 1   monthly_rent   19983 non-null  object \n",
      " 2   location       19983 non-null  object \n",
      " 3   property_type  19983 non-null  object \n",
      " 4   rooms          19983 non-null  object \n",
      " 5   bathroom       19983 non-null  float64\n",
      " 6   size           19983 non-null  object \n",
      " 7   furnished      19983 non-null  object \n",
      " 8   region         19983 non-null  object \n",
      "dtypes: float64(1), int64(1), object(7)\n",
      "memory usage: 1.5+ MB\n"
     ]
    }
   ],
   "source": [
    "data=data[['ads_id','monthly_rent','location','property_type','rooms','bathroom','size','furnished','region']]\n"
   ]
  }
 ],
 "metadata": {
  "kernelspec": {
   "display_name": "Python 3 (ipykernel)",
   "language": "python",
   "name": "python3"
  },
  "language_info": {
   "codemirror_mode": {
    "name": "ipython",
    "version": 3
   },
   "file_extension": ".py",
   "mimetype": "text/x-python",
   "name": "python",
   "nbconvert_exporter": "python",
   "pygments_lexer": "ipython3",
   "version": "3.11.7"
  }
 },
 "nbformat": 4,
 "nbformat_minor": 5
}
